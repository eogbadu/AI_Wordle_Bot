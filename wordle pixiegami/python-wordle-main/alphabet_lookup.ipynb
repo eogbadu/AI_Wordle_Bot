{
 "cells": [
  {
   "cell_type": "code",
   "execution_count": 1,
   "id": "ce2e6019",
   "metadata": {},
   "outputs": [],
   "source": [
    "#pip install import-ipynb"
   ]
  },
  {
   "cell_type": "code",
   "execution_count": 205,
   "id": "60586fa2",
   "metadata": {},
   "outputs": [],
   "source": [
    "import string\n",
    "import numpy as np\n",
    "import import_ipynb\n",
    "import pixigame_modified_play_wordle_with_agent_loop\n",
    "import random\n",
    "from wordle import Wordle\n",
    "import re\n",
    "import time\n",
    "from collections import namedtuple"
   ]
  },
  {
   "cell_type": "code",
   "execution_count": null,
   "id": "ba278751",
   "metadata": {},
   "outputs": [],
   "source": [
    "alphabet = string.ascii_uppercase"
   ]
  },
  {
   "cell_type": "code",
   "execution_count": null,
   "id": "31743f99",
   "metadata": {},
   "outputs": [],
   "source": [
    "alphabet"
   ]
  },
  {
   "cell_type": "code",
   "execution_count": 8,
   "id": "06b70034",
   "metadata": {},
   "outputs": [],
   "source": [
    "def load_word_set(path: str):\n",
    "    word_set = set()\n",
    "    with open(path, \"r\") as f:\n",
    "        for line in f.readlines():\n",
    "            word = line.strip().upper()\n",
    "            word_set.add(word)\n",
    "    return word_set"
   ]
  },
  {
   "cell_type": "code",
   "execution_count": null,
   "id": "f2da5cad",
   "metadata": {},
   "outputs": [],
   "source": [
    "np_word_list[0]"
   ]
  },
  {
   "cell_type": "code",
   "execution_count": null,
   "id": "61bf0152",
   "metadata": {},
   "outputs": [],
   "source": [
    "len(np_word_list)"
   ]
  },
  {
   "cell_type": "markdown",
   "id": "73308769",
   "metadata": {},
   "source": [
    "# feedback function"
   ]
  },
  {
   "cell_type": "code",
   "execution_count": 163,
   "id": "351dad94",
   "metadata": {},
   "outputs": [
    {
     "name": "stdout",
     "output_type": "stream",
     "text": [
      "ATTIC\n"
     ]
    }
   ],
   "source": [
    "# word_set = load_word_set(\"data/wordle_words.txt\") # this is a 10k 5-letter word list \n",
    "#                                                     this is not representative of actual wordle game play\n",
    "#\n",
    "word_set = load_word_set(\"data/wordle_la.txt\") # this is the reduced possible wordle word list\n",
    "\n",
    "np_word_list = np.array(list(word_set))  # this makes the word_set into an np.array for my processing\n",
    "secret = random.choice(list(word_set))\n",
    "wordle = Wordle(secret)  # this launches the wordle game and provides the secret to the game\n",
    "print(secret)  # this shows us the secret word"
   ]
  },
  {
   "cell_type": "code",
   "execution_count": 136,
   "id": "5e1bc13b",
   "metadata": {},
   "outputs": [],
   "source": [
    "my_secret = wordle.secret  # this is the actual secret word from the wordle game instance that is running\n",
    "my_guess = \"STINT\"  # this is my guess word for the feedback function"
   ]
  },
  {
   "cell_type": "code",
   "execution_count": 238,
   "id": "bca5710d",
   "metadata": {},
   "outputs": [],
   "source": [
    "# this function needs to be provided a guess that is 5 letters \n",
    "# and a word set that is a numpy array list of 5 letter words. \n",
    "# This function can be provided a secret which is the secret word it is comparing the guess to\n",
    "# The default for this function can get this secret from wordle.secret  secret=wordle.secret\n",
    "# \n",
    "# this function has been written with default settings that can be overridden\n",
    "# these function are the secret,np_word_list, printing, and my_return_complex\n",
    "# \n",
    "# secret is used in the master agent game play to provide the game: secret=wordle.secret\n",
    "# \n",
    "# np_word_list is the vocabulary list the function is working with: np_word_list=np_word_list \n",
    "#      you can provide a different list by specifying a new list: np_word_list=np_other_list\n",
    "# \n",
    "# printing controls whether the debuging printing is done or not: printing =False can be set to true: printing=True\n",
    "#\n",
    "# my_return_complex controls the return function of the function: my_return_complex=False\n",
    "# the default returns a size integer.  This is leveraged by an np.vectorize function that requires a simple output\n",
    "# \n",
    "\n",
    "\n",
    "# the my_return_complex=True setting will return a namedtuple\n",
    "# in this mode the return is a named tuple with these named tuples: \n",
    "# green_result,yellow_result,grey_list,not_green_list,regexstring_out,mylength,myregexresult\n",
    "#\n",
    "# \n",
    "# this is run like this:\n",
    "# np_vocab_reduction = np.vectorize(feedback)\n",
    "# mylengtharray = np_vocab_reduction(np_word_list,secret = my_secret,printing=False)\n",
    "# mylengtharray[0:50]\n",
    "#\n",
    "# array([  1, 524,  59,   5, 172,  53, 207,  36, 284,  78, 357,  26,  12,\n",
    "#          5, 459, 970,  76,  19, 208, 159, 237,   4, 169,  98, 103, 290,\n",
    "#         53,  21, 212, 238,  68,  16, 126, 129, 172, 218, 145,  11, 228,\n",
    "#          2,  84, 302, 116,  15,  13,  19, 146, 285,  24,  19])\n",
    "#\n",
    "# np_word_list[mylengtharray == 1]\n",
    "# array(['SATIN', 'STERN', 'SALON', 'SLAIN', 'STRIP', 'STAIR', 'STEIN',\n",
    "#        'PATSY', 'STINT', 'BASIC', 'SCANT', 'PATIO', 'STONE', 'FAINT',\n",
    "#        'TRAIN', 'STANK', 'STAIN', 'SATYR', 'PAINT', 'SLANT', 'STAND',\n",
    "#        'WAIST', 'STING', 'STONY', 'UNTIE', 'BASIS', 'STUNT', 'BASIL',\n",
    "#        'BASIN', 'SAINT', 'STINK', 'STAID', 'UNTIL', 'TAINT', 'MASON',\n",
    "#        'RATIO', 'ARTSY', 'TITAN', 'SNAIL', 'ANTIC', 'CABIN'], dtype='<U5')\n",
    "#\n",
    "# running this function in this way is done like this:\n",
    "# my_results = feedback('bread',secret = my_secret,np_word_list=np_word_list,printing=True,my_return_complex=True)\n",
    "#\n",
    "# this provides the capability to run this kind of command:\n",
    "# print(my_results.myregexresult)\n",
    "# each of these results can be used: \n",
    "#      my_results.green_result                00100 \n",
    "#      my_results.yellow_result               00001\n",
    "#      my_results.grey_list                   ['B', 'R', 'E', 'D']\n",
    "#      my_results.not_green_list              [0, 1, 2, 3, 4]\n",
    "#      my_results.regexstring_out             (?=[^BRED][^BRED][^BRED][^ABRED][^BRED])(?=.*A.*)\n",
    "#      my_results.mylength                    235\n",
    "#      my_results.myregexresult               ['SATIN' 'FLASK' 'TAUNT' 'FLANK' 'SALVO' 'FAITH' 'AMITY' 'CAULK' 'LOAMY'\n",
    "#                                             ...\n",
    "#                                             'CANNY']\n",
    "\n",
    "def feedback(guess ,secret=my_secret, np_word_list=np_word_list,printing=False,my_return_complex=False):\n",
    "    guess = guess.upper()\n",
    "    if printing == True: print(\"Top of the feedback function\\n\",\"secret\",secret,\"guess\",guess,wordle.attempts ) \n",
    "    #secret = wordle.secret\n",
    "            \n",
    "    # this makes green results\n",
    "    green_result = \"\"\n",
    "    maskedword = \"\"\n",
    "    myregexstring = [[],[],[],[],[]]\n",
    "\n",
    "    for i in range(len(secret)):\n",
    "        same = (guess[i] in secret[i])\n",
    "        green_result += str(int(same))\n",
    "        if same:\n",
    "            maskedword += \"*\"\n",
    "            myregexstring[i] = guess[i]\n",
    "        else:\n",
    "            maskedword += secret[i]\n",
    "    if printing == True: print(\"maskedword\",maskedword)\n",
    "    if printing == True: print(\"green result\",green_result)\n",
    "\n",
    "    # This makes yellow results\n",
    "    yellow_result = \"\"\n",
    "    myisinstring = \"\"\n",
    "    myisinfstring = '(?=.*{}.*)'\n",
    "\n",
    "    for i in range(len(maskedword)):\n",
    "        isin = (guess[i] in maskedword)\n",
    "        if isin:\n",
    "            myregexstring[i].append(guess[i])\n",
    "            myisinstring += f'(?=.*{guess[i]}.*)'\n",
    "\n",
    "        yellow_result += str(int(isin))\n",
    "    if printing == True: print(\"yellow_result\",yellow_result)\n",
    "\n",
    "    # greylist is a list of letters that are not green and are not yellow\n",
    "    # the idea is that the letter has not been filtered out\n",
    "    # not_green_list is a list of positions that are not green\n",
    "\n",
    "    grey_list = []\n",
    "    not_green_list = []\n",
    "    for i in range(len(yellow_result)):\n",
    "        #print(green_result[i]== \"0\", yellow_result[i] == \"0\")\n",
    "        if green_result[i] == \"0\":\n",
    "            not_green_list.append(i)\n",
    "        if green_result[i] == \"0\" and yellow_result[i] == \"0\" and guess[i] not in grey_list:\n",
    "            if printing == True: print(guess[i])\n",
    "            grey_list.append(guess[i])\n",
    "        if printing == True: print(i,secret[i],guess[i],green_result[i],yellow_result[i],grey_list,not_green_list)\n",
    "    if printing == True: print(\"grey_list\",grey_list)\n",
    "    if printing == True: print(\"not_green_list\",not_green_list)\n",
    "\n",
    "\n",
    "    # this builds a myregexstring that is used to produce a regular expression string\n",
    "    # that is used to filter out words from the vocabulary list based on the restrictions of the wordle feedback\n",
    "\n",
    "    for i in not_green_list:\n",
    "        for grey in grey_list:\n",
    "            if not grey in myregexstring[i]:\n",
    "                myregexstring[i].append(grey)\n",
    "    if printing == True: print(\"myregexstring\",myregexstring)\n",
    "    if printing == True: print(\"myisinstring\",myisinstring)\n",
    "\n",
    "    #wordlist_five\n",
    "\n",
    "    finalregexstring = \"\"\n",
    "    for i in myregexstring:\n",
    "        if type(i) == list:\n",
    "            list_string = \"\".join(i)\n",
    "            f_list_string = \"[^{}]\".format(list_string)\n",
    "            if printing == True: print(\"list_string\",list_string,f_list_string)\n",
    "            finalregexstring += f_list_string\n",
    "        elif type(i) == str:\n",
    "            finalregexstring += i\n",
    "        if printing == True: print(i,type(i),str(i),finalregexstring)\n",
    "    regexstring_out = \"(?={}){}\".format(finalregexstring,myisinstring)\n",
    "    if printing == True: print(regexstring_out)\n",
    "    \n",
    "    ### this is the original word set as a np array.\n",
    "    ### the first use of this is to evaluate the reduction of the entire word set\n",
    "    ### i'm commenting this out so that the word set can be provided to the function\n",
    "    ### This provides a way to pass in a reduced data set\n",
    "    #np_word_list = np.array(list(word_set))\n",
    "    \n",
    "    \n",
    "    myregexresult = np_word_list[(list(map(lambda x: bool(re.match(regexstring_out,x)),np_word_list)))]\n",
    "    if printing == True: print(myregexresult)\n",
    "    mylength = len(myregexresult)\n",
    "    if printing == True: print(mylength)\n",
    "    #return(green_result,yellow_result,grey_list,not_green_list,regexstring_out,mylength,myregexresult)\n",
    "\n",
    "\n",
    "    myresults = namedtuple(\"myresults\",[\"green_result\",\"yellow_result\",\"grey_list\",\"not_green_list\",\"regexstring_out\",\"mylength\",\"myregexresult\"])\n",
    "    results = myresults(green_result,yellow_result,grey_list,not_green_list,regexstring_out,mylength,myregexresult)\n",
    "    if my_return_complex == True:\n",
    "        return(results)\n",
    "    else:\n",
    "        return(mylength)\n",
    "\n",
    "    "
   ]
  },
  {
   "cell_type": "markdown",
   "id": "7a4a5077",
   "metadata": {},
   "source": [
    "# This runs the script as default my_return_complex which is my_return_complex=False\n"
   ]
  },
  {
   "cell_type": "code",
   "execution_count": 247,
   "id": "9b250cbf",
   "metadata": {},
   "outputs": [
    {
     "name": "stdout",
     "output_type": "stream",
     "text": [
      "Top of the feedback function\n",
      " secret SATIN guess BREAD []\n",
      "maskedword SATIN\n",
      "green result 00000\n",
      "yellow_result 00010\n",
      "B\n",
      "0 S B 0 0 ['B'] [0]\n",
      "R\n",
      "1 A R 0 0 ['B', 'R'] [0, 1]\n",
      "E\n",
      "2 T E 0 0 ['B', 'R', 'E'] [0, 1, 2]\n",
      "3 I A 0 1 ['B', 'R', 'E'] [0, 1, 2, 3]\n",
      "D\n",
      "4 N D 0 0 ['B', 'R', 'E', 'D'] [0, 1, 2, 3, 4]\n",
      "grey_list ['B', 'R', 'E', 'D']\n",
      "not_green_list [0, 1, 2, 3, 4]\n",
      "myregexstring [['B', 'R', 'E', 'D'], ['B', 'R', 'E', 'D'], ['B', 'R', 'E', 'D'], ['A', 'B', 'R', 'E', 'D'], ['B', 'R', 'E', 'D']]\n",
      "myisinstring (?=.*A.*)\n",
      "list_string BRED [^BRED]\n",
      "['B', 'R', 'E', 'D'] <class 'list'> ['B', 'R', 'E', 'D'] [^BRED]\n",
      "list_string BRED [^BRED]\n",
      "['B', 'R', 'E', 'D'] <class 'list'> ['B', 'R', 'E', 'D'] [^BRED][^BRED]\n",
      "list_string BRED [^BRED]\n",
      "['B', 'R', 'E', 'D'] <class 'list'> ['B', 'R', 'E', 'D'] [^BRED][^BRED][^BRED]\n",
      "list_string ABRED [^ABRED]\n",
      "['A', 'B', 'R', 'E', 'D'] <class 'list'> ['A', 'B', 'R', 'E', 'D'] [^BRED][^BRED][^BRED][^ABRED]\n",
      "list_string BRED [^BRED]\n",
      "['B', 'R', 'E', 'D'] <class 'list'> ['B', 'R', 'E', 'D'] [^BRED][^BRED][^BRED][^ABRED][^BRED]\n",
      "(?=[^BRED][^BRED][^BRED][^ABRED][^BRED])(?=.*A.*)\n",
      "['SATIN' 'FLASK' 'TAUNT' 'FLANK' 'SALVO' 'FAITH' 'AMITY' 'CAULK' 'LOAMY'\n",
      " 'COMMA' 'MAGIC' 'STALL' 'ALIGN' 'PLAZA' 'SLASH' 'CAPUT' 'ALOOF' 'MAXIM'\n",
      " 'CLACK' 'TANGO' 'CHANT' 'CLANK' 'LOATH' 'FLASH' 'QUAIL' 'SCALP' 'SALON'\n",
      " 'AWAIT' 'SLAIN' 'FLACK' 'NASTY' 'PASTA' 'PALSY' 'ALOFT' 'HASTY' 'FANCY'\n",
      " 'CHAFF' 'TONGA' 'GAWKY' 'AXION' 'SASSY' 'AMONG' 'PANIC' 'LAUGH' 'MOCHA'\n",
      " 'SMACK' 'GAMMA' 'NANNY' 'PLANT' 'ALPHA' 'SHACK' 'SWASH' 'GAMUT' 'SPANK'\n",
      " 'GIANT' 'CLAIM' 'PIZZA' 'GAUNT' 'SALTY' 'ANVIL' 'KAPPA' 'GUAVA' 'PATSY'\n",
      " 'NINJA' 'QUOTA' 'KOALA' 'ANNUL' 'MACHO' 'PASTY' 'SWATH' 'PSALM' 'SPAWN'\n",
      " 'SAUNA' 'HAVOC' 'CHAMP' 'KNACK' 'WACKY' 'SCALY' 'VOILA' 'MAMMY' 'SCANT'\n",
      " 'AWFUL' 'PATIO' 'AWASH' 'SHANK' 'MATCH' 'JAUNT' 'TAWNY' 'SNACK' 'CANON'\n",
      " 'FAINT' 'VAULT' 'SALSA' 'WAGON' 'PANSY' 'JUNTA' 'STANK' 'SAPPY' 'CLASS'\n",
      " 'AUNTY' 'STAIN' 'GAILY' 'FANNY' 'SOAPY' 'VAUNT' 'TACIT' 'SWAMP' 'TOAST'\n",
      " 'GNASH' 'TAFFY' 'AGLOW' 'CHALK' 'MAFIA' 'ASCOT' 'ALLOW' 'PAINT' 'AMPLY'\n",
      " 'COAST' 'SLANT' 'CACTI' 'SHAWL' 'CLANG' 'SHAFT' 'WAIST' 'GAYLY' 'CAVIL'\n",
      " 'CATCH' 'MANGA' 'GLASS' 'YACHT' 'STAMP' 'TANGY' 'PLAIT' 'CHASM' 'SLANG'\n",
      " 'AFOUL' 'SCAMP' 'CATTY' 'SPASM' 'QUALM' 'ATTIC' 'SAVOY' 'COCOA' 'TATTY'\n",
      " 'SAINT' 'TWANG' 'SLACK' 'HATCH' 'SWAMI' 'MANGO' 'SMASH' 'WALTZ' 'MAMMA'\n",
      " 'COACH' 'PIANO' 'AXIOM' 'CHINA' 'LASSO' 'VISTA' 'STASH' 'FAULT' 'SMALL'\n",
      " 'AFOOT' 'PLAIN' 'ALLOY' 'HAPPY' 'SHALT' 'WATCH' 'QUASI' 'ANGST' 'THANK'\n",
      " 'GASSY' 'CHAIN' 'SALLY' 'PATCH' 'MANLY' 'KHAKI' 'STALK' 'APPLY' 'PATTY'\n",
      " 'AMASS' 'WHACK' 'LATCH' 'FOAMY' 'PLANK' 'ANNOY' 'TACKY' 'LLAMA' 'MANGY'\n",
      " 'FLAIL' 'TAINT' 'QUASH' 'MASON' 'STAFF' 'CLAMP' 'JAZZY' 'CLASH' 'CLASP'\n",
      " 'AGAIN' 'AVAIL' 'ATOLL' 'APTLY' 'ALONG' 'TASTY' 'QUACK' 'SNAKY' 'MAGMA'\n",
      " 'SNAIL' 'FLAKY' 'SIGMA' 'ANTIC' 'APING' 'AGONY' 'MANIA' 'VIOLA' 'SAUCY'\n",
      " 'AGING' 'FATTY' 'POLKA' 'STACK' 'CHAOS' 'SHAKY' 'SAVVY' 'ALLOT' 'LANKY'\n",
      " 'AFFIX' 'VILLA' 'HAUNT' 'SHALL' 'AMISS' 'FAUNA' 'TALON' 'TALLY' 'MANIC'\n",
      " 'CANNY']\n",
      "235\n",
      "235\n"
     ]
    }
   ],
   "source": [
    "# This runs the script as default my_return_complex which is my_return_complex=False\n",
    "# this results in a vocabulary length as the result\n",
    "# the secret word is the first word in the vocabulary\n",
    "# this is intended to provide an opportunity to produce a matrix of vocabulary length when run in a loop\n",
    "# using the np_vocab_reduction = np.vectorize(feedback)\n",
    "# mylengtharray = np_vocab_reduction(np_word_list,secret = my_secret,printing=False)\n",
    "# these will result in a numpy array for each word in the vocabulary as the secret word\n",
    "# compared to all of the other words as guesses.  the result is the length of the vocabulary resulting\n",
    "# turn off the printing and this takes around 9 seconds to run on the ~2000 vocabulary words\n",
    "# \n",
    "my_secret = np_word_list[0]\n",
    "mylength = feedback('bread',secret = my_secret,np_word_list=np_word_list,printing=True)\n",
    "print(mylength)"
   ]
  },
  {
   "cell_type": "markdown",
   "id": "0af3b3ca",
   "metadata": {},
   "source": [
    "# This runs the script as default my_return_complex which is my_return_complex=True"
   ]
  },
  {
   "cell_type": "code",
   "execution_count": 248,
   "id": "48dddd4a",
   "metadata": {},
   "outputs": [
    {
     "name": "stdout",
     "output_type": "stream",
     "text": [
      "SATIN\n",
      "Top of the feedback function\n",
      " secret SATIN guess BREAD []\n",
      "maskedword SATIN\n",
      "green result 00000\n",
      "yellow_result 00010\n",
      "B\n",
      "0 S B 0 0 ['B'] [0]\n",
      "R\n",
      "1 A R 0 0 ['B', 'R'] [0, 1]\n",
      "E\n",
      "2 T E 0 0 ['B', 'R', 'E'] [0, 1, 2]\n",
      "3 I A 0 1 ['B', 'R', 'E'] [0, 1, 2, 3]\n",
      "D\n",
      "4 N D 0 0 ['B', 'R', 'E', 'D'] [0, 1, 2, 3, 4]\n",
      "grey_list ['B', 'R', 'E', 'D']\n",
      "not_green_list [0, 1, 2, 3, 4]\n",
      "myregexstring [['B', 'R', 'E', 'D'], ['B', 'R', 'E', 'D'], ['B', 'R', 'E', 'D'], ['A', 'B', 'R', 'E', 'D'], ['B', 'R', 'E', 'D']]\n",
      "myisinstring (?=.*A.*)\n",
      "list_string BRED [^BRED]\n",
      "['B', 'R', 'E', 'D'] <class 'list'> ['B', 'R', 'E', 'D'] [^BRED]\n",
      "list_string BRED [^BRED]\n",
      "['B', 'R', 'E', 'D'] <class 'list'> ['B', 'R', 'E', 'D'] [^BRED][^BRED]\n",
      "list_string BRED [^BRED]\n",
      "['B', 'R', 'E', 'D'] <class 'list'> ['B', 'R', 'E', 'D'] [^BRED][^BRED][^BRED]\n",
      "list_string ABRED [^ABRED]\n",
      "['A', 'B', 'R', 'E', 'D'] <class 'list'> ['A', 'B', 'R', 'E', 'D'] [^BRED][^BRED][^BRED][^ABRED]\n",
      "list_string BRED [^BRED]\n",
      "['B', 'R', 'E', 'D'] <class 'list'> ['B', 'R', 'E', 'D'] [^BRED][^BRED][^BRED][^ABRED][^BRED]\n",
      "(?=[^BRED][^BRED][^BRED][^ABRED][^BRED])(?=.*A.*)\n",
      "['SATIN' 'FLASK' 'TAUNT' 'FLANK' 'SALVO' 'FAITH' 'AMITY' 'CAULK' 'LOAMY'\n",
      " 'COMMA' 'MAGIC' 'STALL' 'ALIGN' 'PLAZA' 'SLASH' 'CAPUT' 'ALOOF' 'MAXIM'\n",
      " 'CLACK' 'TANGO' 'CHANT' 'CLANK' 'LOATH' 'FLASH' 'QUAIL' 'SCALP' 'SALON'\n",
      " 'AWAIT' 'SLAIN' 'FLACK' 'NASTY' 'PASTA' 'PALSY' 'ALOFT' 'HASTY' 'FANCY'\n",
      " 'CHAFF' 'TONGA' 'GAWKY' 'AXION' 'SASSY' 'AMONG' 'PANIC' 'LAUGH' 'MOCHA'\n",
      " 'SMACK' 'GAMMA' 'NANNY' 'PLANT' 'ALPHA' 'SHACK' 'SWASH' 'GAMUT' 'SPANK'\n",
      " 'GIANT' 'CLAIM' 'PIZZA' 'GAUNT' 'SALTY' 'ANVIL' 'KAPPA' 'GUAVA' 'PATSY'\n",
      " 'NINJA' 'QUOTA' 'KOALA' 'ANNUL' 'MACHO' 'PASTY' 'SWATH' 'PSALM' 'SPAWN'\n",
      " 'SAUNA' 'HAVOC' 'CHAMP' 'KNACK' 'WACKY' 'SCALY' 'VOILA' 'MAMMY' 'SCANT'\n",
      " 'AWFUL' 'PATIO' 'AWASH' 'SHANK' 'MATCH' 'JAUNT' 'TAWNY' 'SNACK' 'CANON'\n",
      " 'FAINT' 'VAULT' 'SALSA' 'WAGON' 'PANSY' 'JUNTA' 'STANK' 'SAPPY' 'CLASS'\n",
      " 'AUNTY' 'STAIN' 'GAILY' 'FANNY' 'SOAPY' 'VAUNT' 'TACIT' 'SWAMP' 'TOAST'\n",
      " 'GNASH' 'TAFFY' 'AGLOW' 'CHALK' 'MAFIA' 'ASCOT' 'ALLOW' 'PAINT' 'AMPLY'\n",
      " 'COAST' 'SLANT' 'CACTI' 'SHAWL' 'CLANG' 'SHAFT' 'WAIST' 'GAYLY' 'CAVIL'\n",
      " 'CATCH' 'MANGA' 'GLASS' 'YACHT' 'STAMP' 'TANGY' 'PLAIT' 'CHASM' 'SLANG'\n",
      " 'AFOUL' 'SCAMP' 'CATTY' 'SPASM' 'QUALM' 'ATTIC' 'SAVOY' 'COCOA' 'TATTY'\n",
      " 'SAINT' 'TWANG' 'SLACK' 'HATCH' 'SWAMI' 'MANGO' 'SMASH' 'WALTZ' 'MAMMA'\n",
      " 'COACH' 'PIANO' 'AXIOM' 'CHINA' 'LASSO' 'VISTA' 'STASH' 'FAULT' 'SMALL'\n",
      " 'AFOOT' 'PLAIN' 'ALLOY' 'HAPPY' 'SHALT' 'WATCH' 'QUASI' 'ANGST' 'THANK'\n",
      " 'GASSY' 'CHAIN' 'SALLY' 'PATCH' 'MANLY' 'KHAKI' 'STALK' 'APPLY' 'PATTY'\n",
      " 'AMASS' 'WHACK' 'LATCH' 'FOAMY' 'PLANK' 'ANNOY' 'TACKY' 'LLAMA' 'MANGY'\n",
      " 'FLAIL' 'TAINT' 'QUASH' 'MASON' 'STAFF' 'CLAMP' 'JAZZY' 'CLASH' 'CLASP'\n",
      " 'AGAIN' 'AVAIL' 'ATOLL' 'APTLY' 'ALONG' 'TASTY' 'QUACK' 'SNAKY' 'MAGMA'\n",
      " 'SNAIL' 'FLAKY' 'SIGMA' 'ANTIC' 'APING' 'AGONY' 'MANIA' 'VIOLA' 'SAUCY'\n",
      " 'AGING' 'FATTY' 'POLKA' 'STACK' 'CHAOS' 'SHAKY' 'SAVVY' 'ALLOT' 'LANKY'\n",
      " 'AFFIX' 'VILLA' 'HAUNT' 'SHALL' 'AMISS' 'FAUNA' 'TALON' 'TALLY' 'MANIC'\n",
      " 'CANNY']\n",
      "235\n"
     ]
    }
   ],
   "source": [
    "# This runs the script as default my_return_complex which is my_return_complex=True\n",
    "# this results in the results being returned as a named tuple\n",
    "# print(my_results.myregexresult)\n",
    "# ['SATIN' 'FLASK' 'TAUNT' 'FLANK' 'SALVO' 'FAITH' 'AMITY' 'CAULK' 'LOAMY'\n",
    "# ...\n",
    "# 'CANNY']\n",
    "#\n",
    "print(my_secret)\n",
    "my_results = feedback('bread',secret = my_secret,np_word_list=np_word_list,printing=True,my_return_complex=True)"
   ]
  },
  {
   "cell_type": "code",
   "execution_count": 249,
   "id": "5ae3ce37",
   "metadata": {},
   "outputs": [
    {
     "name": "stdout",
     "output_type": "stream",
     "text": [
      "['SATIN' 'FLASK' 'TAUNT' 'FLANK' 'SALVO' 'FAITH' 'AMITY' 'CAULK' 'LOAMY'\n",
      " 'COMMA' 'MAGIC' 'STALL' 'ALIGN' 'PLAZA' 'SLASH' 'CAPUT' 'ALOOF' 'MAXIM'\n",
      " 'CLACK' 'TANGO' 'CHANT' 'CLANK' 'LOATH' 'FLASH' 'QUAIL' 'SCALP' 'SALON'\n",
      " 'AWAIT' 'SLAIN' 'FLACK' 'NASTY' 'PASTA' 'PALSY' 'ALOFT' 'HASTY' 'FANCY'\n",
      " 'CHAFF' 'TONGA' 'GAWKY' 'AXION' 'SASSY' 'AMONG' 'PANIC' 'LAUGH' 'MOCHA'\n",
      " 'SMACK' 'GAMMA' 'NANNY' 'PLANT' 'ALPHA' 'SHACK' 'SWASH' 'GAMUT' 'SPANK'\n",
      " 'GIANT' 'CLAIM' 'PIZZA' 'GAUNT' 'SALTY' 'ANVIL' 'KAPPA' 'GUAVA' 'PATSY'\n",
      " 'NINJA' 'QUOTA' 'KOALA' 'ANNUL' 'MACHO' 'PASTY' 'SWATH' 'PSALM' 'SPAWN'\n",
      " 'SAUNA' 'HAVOC' 'CHAMP' 'KNACK' 'WACKY' 'SCALY' 'VOILA' 'MAMMY' 'SCANT'\n",
      " 'AWFUL' 'PATIO' 'AWASH' 'SHANK' 'MATCH' 'JAUNT' 'TAWNY' 'SNACK' 'CANON'\n",
      " 'FAINT' 'VAULT' 'SALSA' 'WAGON' 'PANSY' 'JUNTA' 'STANK' 'SAPPY' 'CLASS'\n",
      " 'AUNTY' 'STAIN' 'GAILY' 'FANNY' 'SOAPY' 'VAUNT' 'TACIT' 'SWAMP' 'TOAST'\n",
      " 'GNASH' 'TAFFY' 'AGLOW' 'CHALK' 'MAFIA' 'ASCOT' 'ALLOW' 'PAINT' 'AMPLY'\n",
      " 'COAST' 'SLANT' 'CACTI' 'SHAWL' 'CLANG' 'SHAFT' 'WAIST' 'GAYLY' 'CAVIL'\n",
      " 'CATCH' 'MANGA' 'GLASS' 'YACHT' 'STAMP' 'TANGY' 'PLAIT' 'CHASM' 'SLANG'\n",
      " 'AFOUL' 'SCAMP' 'CATTY' 'SPASM' 'QUALM' 'ATTIC' 'SAVOY' 'COCOA' 'TATTY'\n",
      " 'SAINT' 'TWANG' 'SLACK' 'HATCH' 'SWAMI' 'MANGO' 'SMASH' 'WALTZ' 'MAMMA'\n",
      " 'COACH' 'PIANO' 'AXIOM' 'CHINA' 'LASSO' 'VISTA' 'STASH' 'FAULT' 'SMALL'\n",
      " 'AFOOT' 'PLAIN' 'ALLOY' 'HAPPY' 'SHALT' 'WATCH' 'QUASI' 'ANGST' 'THANK'\n",
      " 'GASSY' 'CHAIN' 'SALLY' 'PATCH' 'MANLY' 'KHAKI' 'STALK' 'APPLY' 'PATTY'\n",
      " 'AMASS' 'WHACK' 'LATCH' 'FOAMY' 'PLANK' 'ANNOY' 'TACKY' 'LLAMA' 'MANGY'\n",
      " 'FLAIL' 'TAINT' 'QUASH' 'MASON' 'STAFF' 'CLAMP' 'JAZZY' 'CLASH' 'CLASP'\n",
      " 'AGAIN' 'AVAIL' 'ATOLL' 'APTLY' 'ALONG' 'TASTY' 'QUACK' 'SNAKY' 'MAGMA'\n",
      " 'SNAIL' 'FLAKY' 'SIGMA' 'ANTIC' 'APING' 'AGONY' 'MANIA' 'VIOLA' 'SAUCY'\n",
      " 'AGING' 'FATTY' 'POLKA' 'STACK' 'CHAOS' 'SHAKY' 'SAVVY' 'ALLOT' 'LANKY'\n",
      " 'AFFIX' 'VILLA' 'HAUNT' 'SHALL' 'AMISS' 'FAUNA' 'TALON' 'TALLY' 'MANIC'\n",
      " 'CANNY']\n"
     ]
    }
   ],
   "source": [
    "print(my_results.myregexresult)"
   ]
  },
  {
   "cell_type": "code",
   "execution_count": 227,
   "id": "d2f2bafc",
   "metadata": {},
   "outputs": [
    {
     "data": {
      "text/plain": [
       "array(['SATIN'], dtype='<U5')"
      ]
     },
     "execution_count": 227,
     "metadata": {},
     "output_type": "execute_result"
    }
   ],
   "source": [
    "mylength.myregexresult"
   ]
  },
  {
   "cell_type": "code",
   "execution_count": 134,
   "id": "1c5f7e8c",
   "metadata": {},
   "outputs": [
    {
     "name": "stdout",
     "output_type": "stream",
     "text": [
      "TSINE\n"
     ]
    }
   ],
   "source": [
    "print(secret)"
   ]
  },
  {
   "cell_type": "code",
   "execution_count": 229,
   "id": "022d2a56",
   "metadata": {},
   "outputs": [
    {
     "name": "stdout",
     "output_type": "stream",
     "text": [
      "1\n"
     ]
    }
   ],
   "source": [
    "print(mylength.mylength)"
   ]
  },
  {
   "cell_type": "markdown",
   "id": "71a644f3",
   "metadata": {},
   "source": [
    "# This explores the np.vectorize function that the feedback script has been modified to support"
   ]
  },
  {
   "cell_type": "code",
   "execution_count": 241,
   "id": "895d3bb9",
   "metadata": {},
   "outputs": [],
   "source": [
    "np_vocab_reduction = np.vectorize(feedback)"
   ]
  },
  {
   "cell_type": "code",
   "execution_count": 251,
   "id": "6a57bf08",
   "metadata": {},
   "outputs": [
    {
     "name": "stdout",
     "output_type": "stream",
     "text": [
      "SATIN\n",
      "8.652843952178955 seconds\n"
     ]
    }
   ],
   "source": [
    "my_secret = np_word_list[0]\n",
    "print(my_secret)\n",
    "timestart = time.time()\n",
    "mylengtharray = np_vocab_reduction(np_word_list,secret = my_secret,printing=False)\n",
    "timeend = time.time()\n",
    "total_time = timeend - timestart\n",
    "print(total_time,\"seconds\")"
   ]
  },
  {
   "cell_type": "code",
   "execution_count": 196,
   "id": "bfe055bb",
   "metadata": {},
   "outputs": [
    {
     "name": "stdout",
     "output_type": "stream",
     "text": [
      "0.1462755759557088 Minutes\n"
     ]
    }
   ],
   "source": [
    "print(total_time/60,\"Minutes\")"
   ]
  },
  {
   "cell_type": "code",
   "execution_count": 243,
   "id": "b9136e2b",
   "metadata": {},
   "outputs": [
    {
     "data": {
      "text/plain": [
       "2315"
      ]
     },
     "execution_count": 243,
     "metadata": {},
     "output_type": "execute_result"
    }
   ],
   "source": [
    "len(mylengtharray)"
   ]
  },
  {
   "cell_type": "code",
   "execution_count": 244,
   "id": "e7ca7306",
   "metadata": {},
   "outputs": [
    {
     "data": {
      "text/plain": [
       "array([  1, 524,  59,   5, 172,  53, 207,  36, 284,  78, 357,  26,  12,\n",
       "         5, 459, 970,  76,  19, 208, 159, 237,   4, 169,  98, 103, 290,\n",
       "        53,  21, 212, 238,  68,  16, 126, 129, 172, 218, 145,  11, 228,\n",
       "         2,  84, 302, 116,  15,  13,  19, 146, 285,  24,  19])"
      ]
     },
     "execution_count": 244,
     "metadata": {},
     "output_type": "execute_result"
    }
   ],
   "source": [
    "mylengtharray[0:50]"
   ]
  },
  {
   "cell_type": "code",
   "execution_count": 245,
   "id": "ef6d0107",
   "metadata": {},
   "outputs": [
    {
     "data": {
      "text/plain": [
       "array(['SATIN', 'STERN', 'SALON', 'SLAIN', 'STRIP', 'STAIR', 'STEIN',\n",
       "       'PATSY', 'STINT', 'BASIC', 'SCANT', 'PATIO', 'STONE', 'FAINT',\n",
       "       'TRAIN', 'STANK', 'STAIN', 'SATYR', 'PAINT', 'SLANT', 'STAND',\n",
       "       'WAIST', 'STING', 'STONY', 'UNTIE', 'BASIS', 'STUNT', 'BASIL',\n",
       "       'BASIN', 'SAINT', 'STINK', 'STAID', 'UNTIL', 'TAINT', 'MASON',\n",
       "       'RATIO', 'ARTSY', 'TITAN', 'SNAIL', 'ANTIC', 'CABIN'], dtype='<U5')"
      ]
     },
     "execution_count": 245,
     "metadata": {},
     "output_type": "execute_result"
    }
   ],
   "source": [
    "np_word_list[mylengtharray == 1]"
   ]
  },
  {
   "cell_type": "markdown",
   "id": "b84d9d78",
   "metadata": {},
   "source": [
    "# This shows that the default function of feedback returns a simple length"
   ]
  },
  {
   "cell_type": "code",
   "execution_count": 252,
   "id": "17ec3e69",
   "metadata": {},
   "outputs": [
    {
     "data": {
      "text/plain": [
       "316"
      ]
     },
     "execution_count": 252,
     "metadata": {},
     "output_type": "execute_result"
    }
   ],
   "source": [
    "feedback('GOYLE')"
   ]
  },
  {
   "cell_type": "code",
   "execution_count": null,
   "id": "b7215768",
   "metadata": {},
   "outputs": [],
   "source": []
  }
 ],
 "metadata": {
  "kernelspec": {
   "display_name": "Python 3 (ipykernel)",
   "language": "python",
   "name": "python3"
  },
  "language_info": {
   "codemirror_mode": {
    "name": "ipython",
    "version": 3
   },
   "file_extension": ".py",
   "mimetype": "text/x-python",
   "name": "python",
   "nbconvert_exporter": "python",
   "pygments_lexer": "ipython3",
   "version": "3.9.7"
  }
 },
 "nbformat": 4,
 "nbformat_minor": 5
}
