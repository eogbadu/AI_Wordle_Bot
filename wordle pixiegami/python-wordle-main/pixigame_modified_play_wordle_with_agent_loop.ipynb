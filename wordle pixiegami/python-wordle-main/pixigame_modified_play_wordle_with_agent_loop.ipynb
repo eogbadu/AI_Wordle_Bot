{
 "cells": [
  {
   "cell_type": "code",
   "execution_count": 1,
   "id": "c30b461f",
   "metadata": {},
   "outputs": [],
   "source": [
    "from typing import List\n",
    "from letter_state import LetterState\n",
    "from wordle import Wordle\n",
    "from colorama import Fore\n",
    "import random\n",
    "agent_guess_list = []"
   ]
  },
  {
   "cell_type": "code",
   "execution_count": 2,
   "id": "98f750e3",
   "metadata": {},
   "outputs": [],
   "source": [
    "def main():\n",
    "\n",
    "    word_set = load_word_set(\"data/wordle_words.txt\")\n",
    "    secret = random.choice(list(word_set))\n",
    "    wordle = Wordle(secret)\n",
    "    print(secret)\n",
    "    agent_guess_list = check_agent_list()\n",
    "    \n",
    "    while wordle.can_attempt:\n",
    "        \n",
    "        \n",
    "        \n",
    "        if len(agent_guess_list) > 0:\n",
    "            x = agent_guess_list.pop()\n",
    "        else:\n",
    "            x = input(\"\\nType your guess: \")\n",
    "\n",
    "        x = x.upper()\n",
    "        \n",
    "\n",
    "        \n",
    "        if len(x) != wordle.WORD_LENGTH:\n",
    "            print(\n",
    "                Fore.RED\n",
    "                + f\"Word must be {wordle.WORD_LENGTH} characters long!\"\n",
    "                + Fore.RESET\n",
    "            )\n",
    "            continue\n",
    "\n",
    "        if not x in word_set:\n",
    "            print(\n",
    "                Fore.RED\n",
    "                + f\"{x} is not a valid word! this word is not in the word set\"\n",
    "                + Fore.RESET\n",
    "            )\n",
    "            continue\n",
    "\n",
    "        wordle.attempt(x)\n",
    "        display_results(wordle)\n",
    "\n",
    "    if wordle.is_solved:\n",
    "        print(\"You've solved the puzzle johnny.\")\n",
    "    else:\n",
    "        print(\"You failed to solve the puzzle!\")\n",
    "        print(f\"The secret word was: {wordle.secret}\")\n",
    "\n",
    "\n",
    "\n"
   ]
  },
  {
   "cell_type": "code",
   "execution_count": 3,
   "id": "b0cbb320",
   "metadata": {},
   "outputs": [],
   "source": [
    "def display_results(wordle: Wordle):\n",
    "    print(\"\\nYour results so far...\")\n",
    "    print(f\"You have {wordle.remaining_attempts} attempts remaining.\\n\")\n",
    "\n",
    "    lines = []\n",
    "\n",
    "    for word in wordle.attempts:\n",
    "        result = wordle.guess(word)\n",
    "        colored_result_str = convert_result_to_color(result)\n",
    "        lines.append(colored_result_str)\n",
    "\n",
    "    for _ in range(wordle.remaining_attempts):\n",
    "        lines.append(\" \".join([\"_\"] * wordle.WORD_LENGTH))\n",
    "\n",
    "    draw_border_around(lines)"
   ]
  },
  {
   "cell_type": "code",
   "execution_count": 4,
   "id": "d8793137",
   "metadata": {},
   "outputs": [],
   "source": [
    "def load_word_set(path: str):\n",
    "    word_set = set()\n",
    "    with open(path, \"r\") as f:\n",
    "        for line in f.readlines():\n",
    "            word = line.strip().upper()\n",
    "            word_set.add(word)\n",
    "    return word_set"
   ]
  },
  {
   "cell_type": "code",
   "execution_count": 5,
   "id": "447a625d",
   "metadata": {},
   "outputs": [],
   "source": [
    "\n",
    "def check_agent_list():\n",
    "    my_set = load_word_set(\"data/agent_guesses.txt\")\n",
    "    mylist = list(my_set)\n",
    "    print(mylist, type(mylist))\n",
    "    return(mylist)"
   ]
  },
  {
   "cell_type": "code",
   "execution_count": 6,
   "id": "867b1cdb",
   "metadata": {},
   "outputs": [],
   "source": [
    "def convert_result_to_color(result: List[LetterState]):\n",
    "    result_with_color = []\n",
    "    for letter in result:\n",
    "        if letter.is_in_position:\n",
    "            color = Fore.GREEN\n",
    "        elif letter.is_in_word:\n",
    "            color = Fore.YELLOW\n",
    "        else:\n",
    "            color = Fore.WHITE\n",
    "        colored_letter = color + letter.character + Fore.RESET\n",
    "        result_with_color.append(colored_letter)\n",
    "    return \" \".join(result_with_color)"
   ]
  },
  {
   "cell_type": "code",
   "execution_count": 7,
   "id": "e283a827",
   "metadata": {},
   "outputs": [],
   "source": [
    "def draw_border_around(lines: List[str], size: int = 9, pad: int = 1):\n",
    "\n",
    "    content_length = size + pad * 2\n",
    "    top_border = \"┌\" + \"─\" * content_length + \"┐\"\n",
    "    bottom_border = \"└\" + \"─\" * content_length + \"┘\"\n",
    "    space = \" \" * pad\n",
    "    print(top_border)\n",
    "\n",
    "    for line in lines:\n",
    "        print(\"│\" + space + line + space + \"│\")\n",
    "\n",
    "    print(bottom_border)\n",
    "\n",
    "\n"
   ]
  },
  {
   "cell_type": "code",
   "execution_count": 8,
   "id": "efb6b75d",
   "metadata": {},
   "outputs": [
    {
     "name": "stdout",
     "output_type": "stream",
     "text": [
      "['FLUSH', 'POINT', 'BREAD'] <class 'list'>\n"
     ]
    }
   ],
   "source": [
    "agent_guess_list = check_agent_list()"
   ]
  },
  {
   "cell_type": "code",
   "execution_count": null,
   "id": "33eb1388",
   "metadata": {},
   "outputs": [],
   "source": []
  },
  {
   "cell_type": "code",
   "execution_count": null,
   "id": "7688c9c9",
   "metadata": {},
   "outputs": [
    {
     "name": "stdout",
     "output_type": "stream",
     "text": [
      "LISTS\n",
      "['FLUSH', 'POINT', 'BREAD'] <class 'list'>\n",
      "\n",
      "Your results so far...\n",
      "You have 5 attempts remaining.\n",
      "\n",
      "┌───────────┐\n",
      "│ \u001b[37mB\u001b[39m \u001b[37mR\u001b[39m \u001b[37mE\u001b[39m \u001b[37mA\u001b[39m \u001b[37mD\u001b[39m │\n",
      "│ _ _ _ _ _ │\n",
      "│ _ _ _ _ _ │\n",
      "│ _ _ _ _ _ │\n",
      "│ _ _ _ _ _ │\n",
      "│ _ _ _ _ _ │\n",
      "└───────────┘\n",
      "\n",
      "Your results so far...\n",
      "You have 4 attempts remaining.\n",
      "\n",
      "┌───────────┐\n",
      "│ \u001b[37mB\u001b[39m \u001b[37mR\u001b[39m \u001b[37mE\u001b[39m \u001b[37mA\u001b[39m \u001b[37mD\u001b[39m │\n",
      "│ \u001b[37mP\u001b[39m \u001b[37mO\u001b[39m \u001b[33mI\u001b[39m \u001b[37mN\u001b[39m \u001b[33mT\u001b[39m │\n",
      "│ _ _ _ _ _ │\n",
      "│ _ _ _ _ _ │\n",
      "│ _ _ _ _ _ │\n",
      "│ _ _ _ _ _ │\n",
      "└───────────┘\n",
      "\n",
      "Your results so far...\n",
      "You have 3 attempts remaining.\n",
      "\n",
      "┌───────────┐\n",
      "│ \u001b[37mB\u001b[39m \u001b[37mR\u001b[39m \u001b[37mE\u001b[39m \u001b[37mA\u001b[39m \u001b[37mD\u001b[39m │\n",
      "│ \u001b[37mP\u001b[39m \u001b[37mO\u001b[39m \u001b[33mI\u001b[39m \u001b[37mN\u001b[39m \u001b[33mT\u001b[39m │\n",
      "│ \u001b[37mF\u001b[39m \u001b[33mL\u001b[39m \u001b[37mU\u001b[39m \u001b[33mS\u001b[39m \u001b[37mH\u001b[39m │\n",
      "│ _ _ _ _ _ │\n",
      "│ _ _ _ _ _ │\n",
      "│ _ _ _ _ _ │\n",
      "└───────────┘\n"
     ]
    }
   ],
   "source": [
    "if __name__ == \"__main__\":\n",
    "    main()"
   ]
  },
  {
   "cell_type": "code",
   "execution_count": null,
   "id": "90b9c324",
   "metadata": {},
   "outputs": [],
   "source": [
    "len(agent_guess_list)"
   ]
  },
  {
   "cell_type": "code",
   "execution_count": null,
   "id": "89f214fd",
   "metadata": {},
   "outputs": [],
   "source": [
    "agent_guess_list"
   ]
  },
  {
   "cell_type": "code",
   "execution_count": null,
   "id": "4c11e80c",
   "metadata": {},
   "outputs": [],
   "source": [
    "type(agent_guess_list)\n",
    "one = agent_guess_list.pop()\n",
    "print(type(one), one)"
   ]
  },
  {
   "cell_type": "code",
   "execution_count": null,
   "id": "74cabe24",
   "metadata": {},
   "outputs": [],
   "source": []
  },
  {
   "cell_type": "code",
   "execution_count": null,
   "id": "b3190329",
   "metadata": {},
   "outputs": [],
   "source": []
  }
 ],
 "metadata": {
  "kernelspec": {
   "display_name": "Python 3 (ipykernel)",
   "language": "python",
   "name": "python3"
  },
  "language_info": {
   "codemirror_mode": {
    "name": "ipython",
    "version": 3
   },
   "file_extension": ".py",
   "mimetype": "text/x-python",
   "name": "python",
   "nbconvert_exporter": "python",
   "pygments_lexer": "ipython3",
   "version": "3.9.7"
  }
 },
 "nbformat": 4,
 "nbformat_minor": 5
}
