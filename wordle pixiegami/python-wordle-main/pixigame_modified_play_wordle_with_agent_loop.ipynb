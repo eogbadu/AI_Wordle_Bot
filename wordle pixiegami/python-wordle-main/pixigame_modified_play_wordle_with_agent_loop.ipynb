{
 "cells": [
  {
   "cell_type": "code",
   "execution_count": null,
   "id": "749ce460",
   "metadata": {},
   "outputs": [],
   "source": [
    "pip install pytimedinput"
   ]
  },
  {
   "cell_type": "code",
   "execution_count": 10,
   "id": "2c8d7d3d",
   "metadata": {},
   "outputs": [],
   "source": [
    "from typing import List\n",
    "from letter_state import LetterState\n",
    "from wordle import Wordle\n",
    "from colorama import Fore\n",
    "import random\n",
    "agent_guess_list = []\n",
    "import msvcrt\n",
    "import time\n"
   ]
  },
  {
   "cell_type": "code",
   "execution_count": 7,
   "id": "77e3b5ef",
   "metadata": {},
   "outputs": [
    {
     "name": "stdout",
     "output_type": "stream",
     "text": [
      "Enter any text.\n",
      "No input\n"
     ]
    }
   ],
   "source": [
    "import msvcrt\n",
    "import time\n",
    "x=''\n",
    "\n",
    "print(\"Enter any text.\")\n",
    "starttime = time.time()\n",
    "while time.time() - starttime < 5:\n",
    "    if msvcrt.kbhit():\n",
    "        x=input()\n",
    "        break\n",
    "if x:\n",
    "    print(\"The input is \" + x)\n",
    "else:\n",
    "    print(\"No input\")"
   ]
  },
  {
   "cell_type": "code",
   "execution_count": null,
   "id": "90b36dbb",
   "metadata": {},
   "outputs": [],
   "source": [
    "'''\n",
    "            starttime = time.time()\n",
    "            while time.time() - starttime < 5:\n",
    "                if msvcrt.kbhit():\n",
    "                    #x=input()\n",
    "                    x = input(\"\\nType your guess: \")\n",
    "                    break'''"
   ]
  },
  {
   "cell_type": "code",
   "execution_count": 23,
   "id": "3f4eb424",
   "metadata": {},
   "outputs": [],
   "source": [
    "def main():\n",
    "\n",
    "    word_set = load_word_set(\"data/wordle_words.txt\")\n",
    "    secret = random.choice(list(word_set))\n",
    "    wordle = Wordle(secret)\n",
    "    print(secret)\n",
    "    \n",
    "    \n",
    "    while wordle.can_attempt:\n",
    "        \n",
    "        agent_guess_list = check_agent_list()\n",
    "        if len(agent_guess_list) > 0:\n",
    "            x = agent_guess_list.pop()\n",
    "            write_agent_guess_set(\"data/agent_guesses.txt\",agent_guess_list)\n",
    "        else:\n",
    "            x = input(\"\\nType your guess: \")\n",
    "\n",
    "            \n",
    "            \n",
    "            \n",
    "            \n",
    "        x = x.upper()\n",
    "        \n",
    "\n",
    "        \n",
    "        if len(x) != wordle.WORD_LENGTH:\n",
    "            print(\n",
    "                Fore.RED\n",
    "                + f\"Word must be {wordle.WORD_LENGTH} characters long!\"\n",
    "                + Fore.RESET\n",
    "            )\n",
    "            continue\n",
    "\n",
    "        if not x in word_set:\n",
    "            print(\n",
    "                Fore.RED\n",
    "                + f\"{x} is not a valid word! this word is not in the word set\"\n",
    "                + Fore.RESET\n",
    "            )\n",
    "            continue\n",
    "\n",
    "        wordle.attempt(x)\n",
    "        display_results(wordle)\n",
    "\n",
    "    if wordle.is_solved:\n",
    "        print(\"You've solved the puzzle johnny.\")\n",
    "    else:\n",
    "        print(\"You failed to solve the puzzle!\")\n",
    "        print(f\"The secret word was: {wordle.secret}\")\n",
    "\n",
    "\n",
    "\n"
   ]
  },
  {
   "cell_type": "code",
   "execution_count": 12,
   "id": "bedf9226",
   "metadata": {},
   "outputs": [],
   "source": [
    "def display_results(wordle: Wordle):\n",
    "    print(\"\\nYour results so far...\")\n",
    "    print(f\"You have {wordle.remaining_attempts} attempts remaining.\\n\")\n",
    "\n",
    "    lines = []\n",
    "\n",
    "    for word in wordle.attempts:\n",
    "        result = wordle.guess(word)\n",
    "        colored_result_str = convert_result_to_color(result)\n",
    "        lines.append(colored_result_str)\n",
    "\n",
    "    for _ in range(wordle.remaining_attempts):\n",
    "        lines.append(\" \".join([\"_\"] * wordle.WORD_LENGTH))\n",
    "\n",
    "    draw_border_around(lines)"
   ]
  },
  {
   "cell_type": "code",
   "execution_count": 13,
   "id": "c1a671f7",
   "metadata": {},
   "outputs": [],
   "source": [
    "def load_word_set(path: str):\n",
    "    word_set = set()\n",
    "    with open(path, \"r\") as f:\n",
    "        for line in f.readlines():\n",
    "            word = line.strip().upper()\n",
    "            word_set.add(word)\n",
    "    return word_set"
   ]
  },
  {
   "cell_type": "code",
   "execution_count": 14,
   "id": "4b238050",
   "metadata": {},
   "outputs": [],
   "source": [
    "\n",
    "def check_agent_list():\n",
    "    my_set = load_word_set(\"data/agent_guesses.txt\")\n",
    "    mylist = list(my_set)\n",
    "    print(mylist, type(mylist))\n",
    "    return(mylist)"
   ]
  },
  {
   "cell_type": "code",
   "execution_count": 15,
   "id": "c3dcf636",
   "metadata": {},
   "outputs": [],
   "source": [
    "def convert_result_to_color(result: List[LetterState]):\n",
    "    result_with_color = []\n",
    "    for letter in result:\n",
    "        if letter.is_in_position:\n",
    "            color = Fore.GREEN\n",
    "        elif letter.is_in_word:\n",
    "            color = Fore.YELLOW\n",
    "        else:\n",
    "            color = Fore.WHITE\n",
    "        colored_letter = color + letter.character + Fore.RESET\n",
    "        result_with_color.append(colored_letter)\n",
    "    return \" \".join(result_with_color)"
   ]
  },
  {
   "cell_type": "code",
   "execution_count": 16,
   "id": "77aa25df",
   "metadata": {},
   "outputs": [],
   "source": [
    "def draw_border_around(lines: List[str], size: int = 9, pad: int = 1):\n",
    "\n",
    "    content_length = size + pad * 2\n",
    "    top_border = \"┌\" + \"─\" * content_length + \"┐\"\n",
    "    bottom_border = \"└\" + \"─\" * content_length + \"┘\"\n",
    "    space = \" \" * pad\n",
    "    print(top_border)\n",
    "\n",
    "    for line in lines:\n",
    "        print(\"│\" + space + line + space + \"│\")\n",
    "\n",
    "    print(bottom_border)\n",
    "\n",
    "\n"
   ]
  },
  {
   "cell_type": "code",
   "execution_count": 17,
   "id": "1f5afedf",
   "metadata": {},
   "outputs": [],
   "source": [
    "def write_agent_guess_set(path: str, my_list: List[str]):\n",
    "    word_set = set()\n",
    "    with open(path, \"w\") as f:\n",
    "        f.writelines(\"%s\\n\" % l for l in my_list)"
   ]
  },
  {
   "cell_type": "code",
   "execution_count": 24,
   "id": "30a1e15a",
   "metadata": {},
   "outputs": [
    {
     "name": "stdout",
     "output_type": "stream",
     "text": [
      "CLOAK\n",
      "[] <class 'list'>\n",
      "\n",
      "Type your guess: bread\n",
      "\n",
      "Your results so far...\n",
      "You have 5 attempts remaining.\n",
      "\n",
      "┌───────────┐\n",
      "│ \u001b[37mB\u001b[39m \u001b[37mR\u001b[39m \u001b[37mE\u001b[39m \u001b[32mA\u001b[39m \u001b[37mD\u001b[39m │\n",
      "│ _ _ _ _ _ │\n",
      "│ _ _ _ _ _ │\n",
      "│ _ _ _ _ _ │\n",
      "│ _ _ _ _ _ │\n",
      "│ _ _ _ _ _ │\n",
      "└───────────┘\n",
      "['POINT', 'BREAD', 'FLUSH'] <class 'list'>\n",
      "\n",
      "Your results so far...\n",
      "You have 4 attempts remaining.\n",
      "\n",
      "┌───────────┐\n",
      "│ \u001b[37mB\u001b[39m \u001b[37mR\u001b[39m \u001b[37mE\u001b[39m \u001b[32mA\u001b[39m \u001b[37mD\u001b[39m │\n",
      "│ \u001b[37mF\u001b[39m \u001b[32mL\u001b[39m \u001b[37mU\u001b[39m \u001b[37mS\u001b[39m \u001b[37mH\u001b[39m │\n",
      "│ _ _ _ _ _ │\n",
      "│ _ _ _ _ _ │\n",
      "│ _ _ _ _ _ │\n",
      "│ _ _ _ _ _ │\n",
      "└───────────┘\n",
      "['POINT', 'BREAD'] <class 'list'>\n",
      "\n",
      "Your results so far...\n",
      "You have 3 attempts remaining.\n",
      "\n",
      "┌───────────┐\n",
      "│ \u001b[37mB\u001b[39m \u001b[37mR\u001b[39m \u001b[37mE\u001b[39m \u001b[32mA\u001b[39m \u001b[37mD\u001b[39m │\n",
      "│ \u001b[37mF\u001b[39m \u001b[32mL\u001b[39m \u001b[37mU\u001b[39m \u001b[37mS\u001b[39m \u001b[37mH\u001b[39m │\n",
      "│ \u001b[37mB\u001b[39m \u001b[37mR\u001b[39m \u001b[37mE\u001b[39m \u001b[32mA\u001b[39m \u001b[37mD\u001b[39m │\n",
      "│ _ _ _ _ _ │\n",
      "│ _ _ _ _ _ │\n",
      "│ _ _ _ _ _ │\n",
      "└───────────┘\n",
      "['POINT'] <class 'list'>\n",
      "\n",
      "Your results so far...\n",
      "You have 2 attempts remaining.\n",
      "\n",
      "┌───────────┐\n",
      "│ \u001b[37mB\u001b[39m \u001b[37mR\u001b[39m \u001b[37mE\u001b[39m \u001b[32mA\u001b[39m \u001b[37mD\u001b[39m │\n",
      "│ \u001b[37mF\u001b[39m \u001b[32mL\u001b[39m \u001b[37mU\u001b[39m \u001b[37mS\u001b[39m \u001b[37mH\u001b[39m │\n",
      "│ \u001b[37mB\u001b[39m \u001b[37mR\u001b[39m \u001b[37mE\u001b[39m \u001b[32mA\u001b[39m \u001b[37mD\u001b[39m │\n",
      "│ \u001b[37mP\u001b[39m \u001b[33mO\u001b[39m \u001b[37mI\u001b[39m \u001b[37mN\u001b[39m \u001b[37mT\u001b[39m │\n",
      "│ _ _ _ _ _ │\n",
      "│ _ _ _ _ _ │\n",
      "└───────────┘\n",
      "[] <class 'list'>\n",
      "\n",
      "Type your guess: cloaK\n",
      "\n",
      "Your results so far...\n",
      "You have 1 attempts remaining.\n",
      "\n",
      "┌───────────┐\n",
      "│ \u001b[37mB\u001b[39m \u001b[37mR\u001b[39m \u001b[37mE\u001b[39m \u001b[32mA\u001b[39m \u001b[37mD\u001b[39m │\n",
      "│ \u001b[37mF\u001b[39m \u001b[32mL\u001b[39m \u001b[37mU\u001b[39m \u001b[37mS\u001b[39m \u001b[37mH\u001b[39m │\n",
      "│ \u001b[37mB\u001b[39m \u001b[37mR\u001b[39m \u001b[37mE\u001b[39m \u001b[32mA\u001b[39m \u001b[37mD\u001b[39m │\n",
      "│ \u001b[37mP\u001b[39m \u001b[33mO\u001b[39m \u001b[37mI\u001b[39m \u001b[37mN\u001b[39m \u001b[37mT\u001b[39m │\n",
      "│ \u001b[32mC\u001b[39m \u001b[32mL\u001b[39m \u001b[32mO\u001b[39m \u001b[32mA\u001b[39m \u001b[32mK\u001b[39m │\n",
      "│ _ _ _ _ _ │\n",
      "└───────────┘\n",
      "You've solved the puzzle johnny.\n"
     ]
    }
   ],
   "source": [
    "if __name__ == \"__main__\":\n",
    "    main()"
   ]
  },
  {
   "cell_type": "code",
   "execution_count": null,
   "id": "8ee1e3b5",
   "metadata": {},
   "outputs": [],
   "source": [
    "agent_guess_list = check_agent_list()"
   ]
  },
  {
   "cell_type": "code",
   "execution_count": null,
   "id": "77cb9b9c",
   "metadata": {},
   "outputs": [],
   "source": [
    "len(agent_guess_list)"
   ]
  },
  {
   "cell_type": "code",
   "execution_count": null,
   "id": "92014cf7",
   "metadata": {},
   "outputs": [],
   "source": [
    "agent_guess_list"
   ]
  },
  {
   "cell_type": "code",
   "execution_count": null,
   "id": "2a47940f",
   "metadata": {},
   "outputs": [],
   "source": [
    "type(agent_guess_list)\n",
    "one = agent_guess_list.pop()\n",
    "print(type(one), one)"
   ]
  },
  {
   "cell_type": "code",
   "execution_count": null,
   "id": "0f6c468a",
   "metadata": {},
   "outputs": [],
   "source": []
  },
  {
   "cell_type": "code",
   "execution_count": null,
   "id": "32f5a7d9",
   "metadata": {},
   "outputs": [],
   "source": []
  }
 ],
 "metadata": {
  "kernelspec": {
   "display_name": "Python 3 (ipykernel)",
   "language": "python",
   "name": "python3"
  },
  "language_info": {
   "codemirror_mode": {
    "name": "ipython",
    "version": 3
   },
   "file_extension": ".py",
   "mimetype": "text/x-python",
   "name": "python",
   "nbconvert_exporter": "python",
   "pygments_lexer": "ipython3",
   "version": "3.9.7"
  }
 },
 "nbformat": 4,
 "nbformat_minor": 5
}
