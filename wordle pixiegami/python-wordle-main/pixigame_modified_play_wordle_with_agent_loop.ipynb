{
 "cells": [
  {
   "cell_type": "markdown",
   "id": "b9be713c",
   "metadata": {},
   "source": [
    "This work was significanly informed by code from this youtube site and corresponding github repository.  \n",
    "\n",
    "Created on Sat Nov  5 13:25:36 2022\n",
    "@author: johnny\n",
    "This code was heavily influenced by a design published in youtube under \n",
    "this url: https://www.youtube.com/watch?v=SyWeex-S6d0\n",
    "\n",
    "Youtube citation:\n",
    "pixegami. (2022b, February 6). Build Wordle in Python • Word Game Python Project for Beginners. \n",
    "YouTube. https://www.youtube.com/watch?v=SyWeex-S6d0\n",
    "\n",
    "github citation:\n",
    "PIXEGAMI. (n.d.). GitHub - pixegami/python-wordle: \n",
    "An implementation of Wordle in Python than can be played via the terminal. \n",
    "GitHub. https://github.com/pixegami/python-wordle\n",
    "\n"
   ]
  },
  {
   "cell_type": "markdown",
   "id": "82b0c367",
   "metadata": {},
   "source": [
    "## This code is the one you will use to run the program.\n",
    "## It imports from the other python programs.\n",
    "\n",
    "there is a data directory where the data files are stored.  \n",
    "These files are code written by this team which includes code from the play_wordle.py file that was written by the original author.\n",
    "\n",
    "## Agent_guess_writer.ipynb\n",
    "    This script provides an interface for the agent to write guesses into a file.  That file is embedded in the game loop and the master agent pulls these guesses into the game.\n",
    "    \n",
    "## create_5_letter_word_text.ipynb\n",
    "    This file creates a 5 letter word list from the nltk words data file, extracting the 5 letter words and writingthese to a file in the data directory.\n",
    "    \n",
    "## pixigame_modified_play_wordle_with_agent_loop.ipynb \n",
    "    This script includes code from the original author that has been included, augmented, and modified to support the game interface as well as providing a game loop where the agent software can connect.  \n",
    "\n",
    "# These files are original from the pixegami author\n",
    "\n",
    "## convert_words.py\n",
    "\n",
    "## letter_state.py\n",
    "\n",
    "## play_wordle.py\n",
    "    This file has been modified to provide some specific alterations required in our agent implementation\n",
    "\n",
    "## README.md\n",
    "\n",
    "## word_source.txt\n",
    "\n",
    "## wordle.py\n",
    "\n",
    "\n",
    "# Data directory\n",
    "\n",
    "## convert_words.py  \n",
    "This is an  script from the original author that creates the word list\n",
    "## word_source.txt  \n",
    "This is the author's word list\n",
    "\n",
    "# These files are written as part of this project\n",
    "## agent_guesses.txt  \n",
    "This is a file that provides the agent input to the game.   \n",
    "## wordle_words.txt\n",
    "This is a file of the words used in this script"
   ]
  },
  {
   "cell_type": "code",
   "execution_count": 1,
   "id": "42332fa7",
   "metadata": {},
   "outputs": [],
   "source": [
    "from typing import List\n",
    "from letter_state import LetterState\n",
    "from wordle import Wordle\n",
    "from colorama import Fore\n",
    "from colorama import init, Fore, Back, Style\n",
    "import random\n",
    "agent_guess_list = []\n",
    "import msvcrt\n",
    "import time\n",
    "import re\n",
    "import numpy as np"
   ]
  },
  {
   "cell_type": "code",
   "execution_count": 2,
   "id": "58546a38",
   "metadata": {},
   "outputs": [],
   "source": [
    "def main():\n",
    "\n",
    "    word_set = load_word_set(\"data/wordle_words.txt\")\n",
    "    secret = random.choice(list(word_set))\n",
    "    wordle = Wordle(secret)\n",
    "    print(secret)\n",
    "    \n",
    "    \n",
    "    while wordle.can_attempt:\n",
    "        \n",
    "        agent_guess_list = check_agent_list()\n",
    "        if len(agent_guess_list) > 0:\n",
    "            x = agent_guess_list.pop()\n",
    "            write_agent_guess_set(\"data/agent_guesses.txt\",agent_guess_list)\n",
    "        else:\n",
    "            x = input(\"\\nType your guess: \")\n",
    "\n",
    "            \n",
    "            \n",
    "            \n",
    "            \n",
    "        x = x.upper()\n",
    "        \n",
    "\n",
    "        \n",
    "        if len(x) != wordle.WORD_LENGTH:\n",
    "            print(\n",
    "                Fore.RED\n",
    "                + f\"Word must be {wordle.WORD_LENGTH} characters long!\"\n",
    "                + Fore.RESET\n",
    "            )\n",
    "            continue\n",
    "\n",
    "        if not x in word_set:\n",
    "            print(\n",
    "                Fore.RED\n",
    "                + f\"{x} is not a valid word! this word is not in the word set\"\n",
    "                + Fore.RESET\n",
    "            )\n",
    "            continue\n",
    "\n",
    "        wordle.attempt(x)\n",
    "        display_results(wordle)\n",
    "\n",
    "    if wordle.is_solved:\n",
    "        print(\"You've solved the puzzle johnny.\")\n",
    "    else:\n",
    "        print(\"You failed to solve the puzzle!\")\n",
    "        print(f\"The secret word was: {wordle.secret}\")\n",
    "\n",
    "\n",
    "\n"
   ]
  },
  {
   "cell_type": "code",
   "execution_count": 3,
   "id": "bebe0c45",
   "metadata": {},
   "outputs": [],
   "source": [
    "def display_results(wordle: Wordle):\n",
    "    print(\"\\nYour results so far...\")\n",
    "    print(f\"You have {wordle.remaining_attempts} attempts remaining.\\n\")\n",
    "\n",
    "    lines = []\n",
    "\n",
    "    print(\"display_results- wordle.attempts:\",wordle.attempts)\n",
    "\n",
    "    \n",
    "    for word in wordle.attempts:\n",
    "        print(\"display_results- word:\",word)\n",
    "        result = wordle.guess(word)\n",
    "        colored_result_str = convert_result_to_color(result)\n",
    "        lines.append(colored_result_str)\n",
    "\n",
    "    for _ in range(wordle.remaining_attempts):\n",
    "        lines.append(\" \".join([\"_\"] * wordle.WORD_LENGTH))\n",
    "\n",
    "    draw_border_around(lines)"
   ]
  },
  {
   "cell_type": "code",
   "execution_count": 4,
   "id": "e000bb26",
   "metadata": {},
   "outputs": [],
   "source": [
    "def load_word_set(path: str):\n",
    "    word_set = set()\n",
    "    with open(path, \"r\") as f:\n",
    "        for line in f.readlines():\n",
    "            word = line.strip().upper()\n",
    "            word_set.add(word)\n",
    "    return word_set"
   ]
  },
  {
   "cell_type": "code",
   "execution_count": 5,
   "id": "09dafd3c",
   "metadata": {},
   "outputs": [],
   "source": [
    "\n",
    "def check_agent_list():\n",
    "    my_set = load_word_set(\"data/agent_guesses.txt\")\n",
    "    mylist = list(my_set)\n",
    "    print(mylist, type(mylist))\n",
    "    return(mylist)"
   ]
  },
  {
   "cell_type": "code",
   "execution_count": 6,
   "id": "d4a6aa47",
   "metadata": {},
   "outputs": [],
   "source": [
    "def convert_result_to_color(result: List[LetterState]):\n",
    "    result_with_color = []\n",
    "    for letter in result:\n",
    "        if letter.is_in_position:\n",
    "            color = Fore.GREEN\n",
    "            color = Back.GREEN\n",
    "        elif letter.is_in_word:\n",
    "            color = Fore.YELLOW\n",
    "            color = Back.YELLOW\n",
    "        else:\n",
    "            color = Fore.WHITE\n",
    "        colored_letter = color + Fore.BLACK + letter.character + Fore.RESET + Back.RESET\n",
    "        result_with_color.append(colored_letter)\n",
    "    return \" \".join(result_with_color)"
   ]
  },
  {
   "cell_type": "code",
   "execution_count": 7,
   "id": "776f3aa0",
   "metadata": {},
   "outputs": [],
   "source": [
    "def draw_border_around(lines: List[str], size: int = 9, pad: int = 1):\n",
    "\n",
    "    content_length = size + pad * 2\n",
    "    top_border = \"┌\" + \"─\" * content_length + \"┐\"\n",
    "    bottom_border = \"└\" + \"─\" * content_length + \"┘\"\n",
    "    space = \" \" * pad\n",
    "    print(top_border)\n",
    "\n",
    "    for line in lines:\n",
    "        print(\"│\" + space + line + space + \"│\")\n",
    "\n",
    "    print(bottom_border)\n",
    "\n",
    "\n"
   ]
  },
  {
   "cell_type": "code",
   "execution_count": 8,
   "id": "ac35e34a",
   "metadata": {},
   "outputs": [],
   "source": [
    "def write_agent_guess_set(path: str, my_list: List[str]):\n",
    "    word_set = set()\n",
    "    with open(path, \"w\") as f:\n",
    "        f.writelines(\"%s\\n\" % l for l in my_list)"
   ]
  },
  {
   "cell_type": "markdown",
   "id": "0552c3bc",
   "metadata": {},
   "source": [
    "# The next line runs the game:\n",
    "\n",
    "Data is written to the screen that is part of the development cycle.  These will be removed for the actual game play."
   ]
  },
  {
   "cell_type": "code",
   "execution_count": null,
   "id": "8fd9d25f",
   "metadata": {},
   "outputs": [],
   "source": [
    "# This is the line that runs the game\n",
    "if __name__ == \"__main__\":\n",
    "    main()"
   ]
  },
  {
   "cell_type": "markdown",
   "id": "d8b34bd4",
   "metadata": {},
   "source": [
    "# To Do list\n",
    "\n",
    "## pull down ny times wordle list\n",
    "Current list is 10k words long and many are esoteric so people won't know many of the words.\n",
    "## produce feedback for the agent\n",
    "make feedback file for agent to interact with\n",
    "## produce logging file\n",
    "Data from the games\n",
    "## produce information gain data from the vocabulary data\n",
    "This will use the feedback function to evaluate the information gain of the other words in the vocabulary as guesses.  The resulting matrix could be useful in a search tree context"
   ]
  },
  {
   "cell_type": "markdown",
   "id": "a34df64f",
   "metadata": {},
   "source": [
    "# experimental code below is not yet working"
   ]
  },
  {
   "cell_type": "code",
   "execution_count": null,
   "id": "be2281b6",
   "metadata": {},
   "outputs": [],
   "source": []
  },
  {
   "cell_type": "code",
   "execution_count": 9,
   "id": "983d64a5",
   "metadata": {},
   "outputs": [
    {
     "name": "stdout",
     "output_type": "stream",
     "text": [
      "[] <class 'list'>\n"
     ]
    }
   ],
   "source": [
    "agent_guess_list = check_agent_list()"
   ]
  },
  {
   "cell_type": "code",
   "execution_count": 10,
   "id": "76e15c9e",
   "metadata": {},
   "outputs": [
    {
     "data": {
      "text/plain": [
       "0"
      ]
     },
     "execution_count": 10,
     "metadata": {},
     "output_type": "execute_result"
    }
   ],
   "source": [
    "len(agent_guess_list)"
   ]
  },
  {
   "cell_type": "code",
   "execution_count": 11,
   "id": "6da1a2be",
   "metadata": {},
   "outputs": [
    {
     "data": {
      "text/plain": [
       "[]"
      ]
     },
     "execution_count": 11,
     "metadata": {},
     "output_type": "execute_result"
    }
   ],
   "source": [
    "agent_guess_list"
   ]
  },
  {
   "cell_type": "code",
   "execution_count": 12,
   "id": "86834770",
   "metadata": {},
   "outputs": [
    {
     "ename": "IndexError",
     "evalue": "pop from empty list",
     "output_type": "error",
     "traceback": [
      "\u001b[1;31m---------------------------------------------------------------------------\u001b[0m",
      "\u001b[1;31mIndexError\u001b[0m                                Traceback (most recent call last)",
      "Cell \u001b[1;32mIn [12], line 2\u001b[0m\n\u001b[0;32m      1\u001b[0m \u001b[38;5;28mtype\u001b[39m(agent_guess_list)\n\u001b[1;32m----> 2\u001b[0m one \u001b[38;5;241m=\u001b[39m agent_guess_list\u001b[38;5;241m.\u001b[39mpop()\n\u001b[0;32m      3\u001b[0m \u001b[38;5;28mprint\u001b[39m(\u001b[38;5;28mtype\u001b[39m(one), one)\n",
      "\u001b[1;31mIndexError\u001b[0m: pop from empty list"
     ]
    }
   ],
   "source": [
    "type(agent_guess_list)\n",
    "one = agent_guess_list.pop()\n",
    "print(type(one), one)"
   ]
  },
  {
   "cell_type": "code",
   "execution_count": null,
   "id": "8fc0b95d",
   "metadata": {},
   "outputs": [],
   "source": []
  },
  {
   "cell_type": "code",
   "execution_count": 70,
   "id": "67b45f37",
   "metadata": {},
   "outputs": [],
   "source": [
    "# There is a typo in the code. \n",
    "def feedback(guess):\n",
    "    guess = guess.upper()\n",
    "    print(wordle.secret,wordle.attempts)\n",
    "    secret = wordle.secret\n",
    "            \n",
    "    # this makes green results\n",
    "    green_result = \"\"\n",
    "    maskedword = \"\"\n",
    "    myregexstring = [[],[],[],[],[]]\n",
    "\n",
    "    for i in range(len(secret)):\n",
    "        same = (guess[i] in secret[i])\n",
    "        green_result += str(int(same))\n",
    "        if same:\n",
    "            maskedword += \"*\"\n",
    "            myregexstring[i] = guess[i]\n",
    "        else:\n",
    "            maskedword += secret[i]\n",
    "    print(\"maskedword\",maskedword)\n",
    "    print(\"green result\",green_result)\n",
    "\n",
    "    # This makes yellow results\n",
    "    yellow_result = \"\"\n",
    "    myisinstring = \"\"\n",
    "    myisinfstring = '(?=.*{}.*)'\n",
    "\n",
    "    for i in range(len(maskedword)):\n",
    "        isin = (guess[i] in maskedword)\n",
    "        if isin:\n",
    "            myregexstring[i].append(guess[i])\n",
    "            myisinstring += f'(?=.*{guess[i]}.*)'\n",
    "\n",
    "        yellow_result += str(int(isin))\n",
    "    print(\"yellow_result\",yellow_result)\n",
    "\n",
    "    # greylist is a list of letters that are not green and are not yellow\n",
    "    # the idea is that the letter has not been filtered out\n",
    "    # not_green_list is a list of positions that are not green\n",
    "\n",
    "    grey_list = []\n",
    "    not_green_list = []\n",
    "    for i in range(len(yellow_result)):\n",
    "        #print(green_result[i]== \"0\", yellow_result[i] == \"0\")\n",
    "        if green_result[i] == \"0\":\n",
    "            not_green_list.append(i)\n",
    "        if green_result[i] == \"0\" and yellow_result[i] == \"0\" and guess[i] not in grey_list:\n",
    "            print(guess[i])\n",
    "            grey_list.append(guess[i])\n",
    "        print(i,secret[i],guess[i],green_result[i],yellow_result[i],grey_list,not_green_list)\n",
    "    print(\"grey_list\",grey_list)\n",
    "    print(\"not_green_list\",not_green_list)\n",
    "\n",
    "\n",
    "    # this builds a myregexstring that is used to produce a regular expression string\n",
    "    # that is used to filter out words from the vocabulary list based on the restrictions of the wordle feedback\n",
    "\n",
    "    for i in not_green_list:\n",
    "        for grey in grey_list:\n",
    "            if not grey in myregexstring[i]:\n",
    "                myregexstring[i].append(grey)\n",
    "    print(\"myregexstring\",myregexstring)\n",
    "    print(\"myisinstring\",myisinstring)\n",
    "\n",
    "    #wordlist_five\n",
    "\n",
    "    finalregexstring = \"\"\n",
    "    for i in myregexstring:\n",
    "        if type(i) == list:\n",
    "            list_string = \"\".join(i)\n",
    "            f_list_string = \"[^{}]\".format(list_string)\n",
    "            print(\"list_string\",list_string,f_list_string)\n",
    "            finalregexstring += f_list_string\n",
    "        elif type(i) == str:\n",
    "            finalregexstring += i\n",
    "        print(i,type(i),str(i),finalregexstring)\n",
    "    regexstring_out = \"(?={}){}\".format(finalregexstring,myisinstring)\n",
    "    print(regexstring_out)\n",
    "    #word_list = list(word_set)\n",
    "    np_word_list = np.array(list(word_set))\n",
    "    myregexresult = np_word_list[(list(map(lambda x: bool(re.match(regexstring_out,x)),np_word_list)))]\n",
    "    print(myregexresult)\n",
    "    mylength = len(myregexresult)\n",
    "    print(mylength)\n",
    "    return(regexstring_out,mylength,myregexresult)\n",
    "        \n",
    "        \n",
    "    "
   ]
  },
  {
   "cell_type": "code",
   "execution_count": 44,
   "id": "6e7b438e",
   "metadata": {},
   "outputs": [
    {
     "name": "stdout",
     "output_type": "stream",
     "text": [
      "QUICA\n"
     ]
    }
   ],
   "source": [
    "    word_set = load_word_set(\"data/wordle_words.txt\")\n",
    "    secret = random.choice(list(word_set))\n",
    "    wordle = Wordle(secret)\n",
    "    print(secret)"
   ]
  },
  {
   "cell_type": "code",
   "execution_count": 58,
   "id": "9eb0b857",
   "metadata": {},
   "outputs": [
    {
     "data": {
      "text/plain": [
       "'SULKA'"
      ]
     },
     "execution_count": 58,
     "metadata": {},
     "output_type": "execute_result"
    }
   ],
   "source": [
    "type(list(word_set))\n",
    "np_word_list = np.array(list(word_set))\n",
    "np_word_list[0]"
   ]
  },
  {
   "cell_type": "code",
   "execution_count": 73,
   "id": "7cc15307",
   "metadata": {},
   "outputs": [
    {
     "name": "stdout",
     "output_type": "stream",
     "text": [
      "QUICA []\n",
      "maskedword **I*A\n",
      "green result 11010\n",
      "yellow_result 00000\n",
      "0 Q Q 1 0 [] []\n",
      "1 U U 1 0 [] []\n",
      "Z\n",
      "2 I Z 0 0 ['Z'] [2]\n",
      "3 C C 1 0 ['Z'] [2]\n",
      "B\n",
      "4 A B 0 0 ['Z', 'B'] [2, 4]\n",
      "grey_list ['Z', 'B']\n",
      "not_green_list [2, 4]\n",
      "myregexstring ['Q', 'U', ['Z', 'B'], 'C', ['Z', 'B']]\n",
      "myisinstring \n",
      "Q <class 'str'> Q Q\n",
      "U <class 'str'> U QU\n",
      "list_string ZB [^ZB]\n",
      "['Z', 'B'] <class 'list'> ['Z', 'B'] QU[^ZB]\n",
      "C <class 'str'> C QU[^ZB]C\n",
      "list_string ZB [^ZB]\n",
      "['Z', 'B'] <class 'list'> ['Z', 'B'] QU[^ZB]C[^ZB]\n",
      "(?=QU[^ZB]C[^ZB])\n",
      "['QUACK' 'QUICK' 'QUICA']\n",
      "3\n"
     ]
    },
    {
     "data": {
      "text/plain": [
       "('(?=QU[^ZB]C[^ZB])', 3, array(['QUACK', 'QUICK', 'QUICA'], dtype='<U5'))"
      ]
     },
     "execution_count": 73,
     "metadata": {},
     "output_type": "execute_result"
    }
   ],
   "source": [
    "feedback('QUzCb')"
   ]
  },
  {
   "cell_type": "code",
   "execution_count": null,
   "id": "8d8412a4",
   "metadata": {},
   "outputs": [],
   "source": []
  }
 ],
 "metadata": {
  "kernelspec": {
   "display_name": "Python 3 (ipykernel)",
   "language": "python",
   "name": "python3"
  },
  "language_info": {
   "codemirror_mode": {
    "name": "ipython",
    "version": 3
   },
   "file_extension": ".py",
   "mimetype": "text/x-python",
   "name": "python",
   "nbconvert_exporter": "python",
   "pygments_lexer": "ipython3",
   "version": "3.9.7"
  }
 },
 "nbformat": 4,
 "nbformat_minor": 5
}
