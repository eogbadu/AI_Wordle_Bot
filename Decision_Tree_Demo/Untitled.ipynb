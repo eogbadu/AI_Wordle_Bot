{
 "cells": [
  {
   "cell_type": "code",
   "execution_count": 8,
   "id": "c0a75cff",
   "metadata": {},
   "outputs": [],
   "source": [
    "import pickle\n",
    "import math\n",
    "import random\n",
    "import tqdm"
   ]
  },
  {
   "cell_type": "code",
   "execution_count": 3,
   "id": "4472001c",
   "metadata": {},
   "outputs": [],
   "source": [
    "def load_word_set(path: str):\n",
    "    word_set = set()\n",
    "    with open(path, \"r\") as f:\n",
    "        for line in f.readlines():\n",
    "            word = line.strip().upper()\n",
    "            word_set.add(word)\n",
    "    return word_set"
   ]
  },
  {
   "cell_type": "code",
   "execution_count": 4,
   "id": "96cdf7b2",
   "metadata": {},
   "outputs": [],
   "source": [
    "def compare_word(guess, actual):\n",
    "    assert len(guess) == len(actual), \"ERROR: words provided in method compare_word are of unequal length!\"\n",
    "    \n",
    "    return ''.join(str((guess[i] == actual[i]) + (guess[i] in actual)) for i in range(0, len(guess)))\n",
    "\n",
    "def negative_log_2(x):\n",
    "    return -math.log(x, 2)\n",
    "\n",
    "def shannon_entropy(vals):\n",
    "    vals_sum = sum(vals)\n",
    "    return sum(negative_log_2(v/vals_sum)*(v/vals_sum) for v in vals)"
   ]
  },
  {
   "cell_type": "code",
   "execution_count": 5,
   "id": "9a592058",
   "metadata": {},
   "outputs": [],
   "source": [
    "class ChoiceNode:\n",
    "    def __init__(self, possible_words):\n",
    "        \n",
    "        assert type(possible_words) in [set, list], \"ERROR: must initialize possible_words as a set/list when declaring ChoiceNode!\"\n",
    "        \n",
    "        self.children = list()\n",
    "        self.possible_words = possible_words\n",
    "        \n",
    "    def generate_children(self):\n",
    "        for word in self.possible_words:\n",
    "            self.children.append(WordNode(self, word))\n",
    "    \n",
    "class WordNode:\n",
    "    \n",
    "    def __init__(self, parent, word):\n",
    "        self.parent = parent\n",
    "        self.word = word\n",
    "        self.possibilities = dict()\n",
    "        self.entropy = None\n",
    "        \n",
    "    def calculate_possibilities(self):\n",
    "        \n",
    "        for word in self.parent.possible_words:\n",
    "            result = compare_word(self.word, word)\n",
    "            if result not in self.possibilities:\n",
    "                #You don't declare choicenodes like this\n",
    "                self.possibilities[result] = ChoiceNode({word})\n",
    "            else:\n",
    "                self.possibilities[result].possible_words.add(word)\n",
    "                \n",
    "        self.entropy = shannon_entropy([len(x.possible_words) for x in self.possibilities.values()])\n",
    "        \n"
   ]
  },
  {
   "cell_type": "code",
   "execution_count": 49,
   "id": "7ed4c40d",
   "metadata": {},
   "outputs": [],
   "source": [
    "def vibecheck(starting_node, WORDS):\n",
    "    \n",
    "    losses = 0\n",
    "    \n",
    "    for i in tqdm.trange(len(WORDS)):\n",
    "        SECRET = WORDS[i]\n",
    "        guessed_word = None\n",
    "        MAX_GUESSES = 5\n",
    "\n",
    "        n1 = starting_node.parent\n",
    "\n",
    "\n",
    "        for j in range(0, MAX_GUESSES):\n",
    "\n",
    "            #print(n1.possible_words)\n",
    "\n",
    "            #n1.generate_children()\n",
    "            maxent = -2\n",
    "            chosen = None\n",
    "\n",
    "            for child in n1.children:\n",
    "                #child.calculate_possibilities()\n",
    "                if child.entropy > maxent:\n",
    "                    chosen = child\n",
    "                    maxent = child.entropy\n",
    "\n",
    "            guessed_word = chosen.word\n",
    "#             print(\"Guessed word: \")\n",
    "#             print(chosen.word)\n",
    "#             print(\"Correctness: \")\n",
    "#             print(compare_word(chosen.word, SECRET))\n",
    "\n",
    "            if guessed_word == SECRET:\n",
    "#                 print('Successfully guessed!')\n",
    "                break\n",
    "\n",
    "            n1 = chosen.possibilities[compare_word(chosen.word, SECRET)]\n",
    "\n",
    "            if j == MAX_GUESSES-1:\n",
    "                losses += 1\n",
    "            \n",
    "    print('games lost: ', losses)\n",
    "\n",
    "    \n",
    "def generate_subnodes(node):\n",
    "    if type(node) == ChoiceNode:\n",
    "        if len(node.possible_words) == 1:\n",
    "            node.generate_children()\n",
    "            node.children[0].calculate_possibilities()\n",
    "            return\n",
    "            \n",
    "        elif len(node.possible_words) == 0:\n",
    "            print('Something\\'s very wrong. Nodes shouldn\\'t have dicts of len 0.')\n",
    "            return\n",
    "        \n",
    "        node.generate_children()\n",
    "        for child in node.children:\n",
    "            child.calculate_possibilities()\n",
    "            generate_subnodes(child)\n",
    "        \n",
    "    elif type(node) == WordNode:\n",
    "        node.calculate_possibilities()\n",
    "        for child in node.possibilities.values():\n",
    "            generate_subnodes(child)\n",
    "        \n",
    "    else:\n",
    "        #Thank god this error never occured. Yet.\n",
    "        print('FATAL ERROR: illegal node type provided when generating tree!')\n",
    "        return\n",
    "    \n",
    "    \n",
    "def generate_tree(MAX_GUESSES, word_dict):\n",
    "    \n",
    "    node = ChoiceNode(word_dict)\n",
    "    node.generate_children()\n",
    "    \n",
    "    #Code for calculating the first pick the agent would choose given all possible words.\n",
    "    #Since our agent always chooses the same word given the same dictionary, our tree starts from here.\n",
    "    \n",
    "    maxent = -2\n",
    "    chosen = None\n",
    "    \n",
    "    for child in node.children:\n",
    "        child.calculate_possibilities()\n",
    "        if child.entropy > maxent:\n",
    "            chosen = child\n",
    "            maxent = child.entropy\n",
    "            \n",
    "    starting_node = chosen\n",
    "    \n",
    "#     for node in starting_node.possibilities.values():\n",
    "#         generate_subnodes(node)\n",
    "    dict_data = list(starting_node.possibilities.values())\n",
    "    \n",
    "    for i in tqdm.trange(len(dict_data)):\n",
    "        node = dict_data[i]\n",
    "        generate_subnodes(node)\n",
    "        \n",
    "    return starting_node"
   ]
  },
  {
   "cell_type": "code",
   "execution_count": 31,
   "id": "cf007fb9",
   "metadata": {},
   "outputs": [],
   "source": [
    "WORDS = list(load_word_set(\"Word_Data\\wordle_words.txt\"))"
   ]
  },
  {
   "cell_type": "code",
   "execution_count": 42,
   "id": "45f564e5",
   "metadata": {},
   "outputs": [
    {
     "name": "stderr",
     "output_type": "stream",
     "text": [
      "100%|████████████████████████████████████████████████████████████████████████████████| 149/149 [23:31<00:00,  9.47s/it]\n"
     ]
    }
   ],
   "source": [
    "#Code to generate tree\n",
    "thousand_w_node = generate_tree(5, WORDS)"
   ]
  },
  {
   "cell_type": "code",
   "execution_count": 48,
   "id": "efeec2d3",
   "metadata": {},
   "outputs": [
    {
     "name": "stderr",
     "output_type": "stream",
     "text": [
      "100%|████████████████████████████████████████████████████████████████████████████| 1367/1367 [00:00<00:00, 7802.31it/s]"
     ]
    },
    {
     "name": "stdout",
     "output_type": "stream",
     "text": [
      "games lost:  12\n"
     ]
    },
    {
     "name": "stderr",
     "output_type": "stream",
     "text": [
      "\n"
     ]
    }
   ],
   "source": [
    "#Runs the decision tree through each possible word in our dataset,\n",
    "vibecheck(thousand_w_node, WORDS)"
   ]
  },
  {
   "cell_type": "code",
   "execution_count": 51,
   "id": "fd794fa9",
   "metadata": {},
   "outputs": [],
   "source": [
    "pickle.dump(test, open('wordle_words_node.p', 'wb+'))"
   ]
  }
 ],
 "metadata": {
  "kernelspec": {
   "display_name": "Python 3",
   "language": "python",
   "name": "python3"
  },
  "language_info": {
   "codemirror_mode": {
    "name": "ipython",
    "version": 3
   },
   "file_extension": ".py",
   "mimetype": "text/x-python",
   "name": "python",
   "nbconvert_exporter": "python",
   "pygments_lexer": "ipython3",
   "version": "3.6.8"
  }
 },
 "nbformat": 4,
 "nbformat_minor": 5
}
