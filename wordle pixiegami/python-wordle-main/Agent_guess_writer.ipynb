{
 "cells": [
  {
   "cell_type": "code",
   "execution_count": 8,
   "id": "d7df1eab",
   "metadata": {},
   "outputs": [],
   "source": [
    "from typing import List"
   ]
  },
  {
   "cell_type": "code",
   "execution_count": 1,
   "id": "984c6205",
   "metadata": {},
   "outputs": [],
   "source": [
    "def load_word_set(path: str):\n",
    "    word_set = set()\n",
    "    with open(path, \"r\") as f:\n",
    "        for line in f.readlines():\n",
    "            word = line.strip().upper()\n",
    "            word_set.add(word)\n",
    "    return word_set"
   ]
  },
  {
   "cell_type": "code",
   "execution_count": 2,
   "id": "072a9851",
   "metadata": {},
   "outputs": [],
   "source": [
    "word_set = load_word_set(\"data/wordle_words.txt\")\n"
   ]
  },
  {
   "cell_type": "code",
   "execution_count": 4,
   "id": "3fa5679d",
   "metadata": {},
   "outputs": [
    {
     "data": {
      "text/plain": [
       "1367"
      ]
     },
     "execution_count": 4,
     "metadata": {},
     "output_type": "execute_result"
    }
   ],
   "source": [
    "len(word_set)"
   ]
  },
  {
   "cell_type": "code",
   "execution_count": 22,
   "id": "63250610",
   "metadata": {},
   "outputs": [],
   "source": [
    "agent_guess_list = [\"BREAD\",\"FLUSH\",\"POINT\"]"
   ]
  },
  {
   "cell_type": "code",
   "execution_count": 18,
   "id": "362c48a6",
   "metadata": {},
   "outputs": [],
   "source": [
    "agent_guess_list = [\"MANGO\"]"
   ]
  },
  {
   "cell_type": "code",
   "execution_count": 16,
   "id": "7e32fb8b",
   "metadata": {},
   "outputs": [],
   "source": [
    "def write_agent_guess_set(path: str, my_list: List[str]):\n",
    "    word_set = set()\n",
    "    with open(path, \"w\") as f:\n",
    "        f.writelines(\"%s\\n\" % l for l in my_list)\n",
    "    "
   ]
  },
  {
   "cell_type": "code",
   "execution_count": 23,
   "id": "32f44cdb",
   "metadata": {},
   "outputs": [],
   "source": [
    "write_agent_guess_set(\"data/agent_guesses.txt\",agent_guess_list)"
   ]
  },
  {
   "cell_type": "code",
   "execution_count": 14,
   "id": "85515d7e",
   "metadata": {},
   "outputs": [],
   "source": [
    "lines = ['line1', 'line2']\n",
    "with open('data/filename.txt', 'w') as f:\n",
    "    f.writelines(\"%s\\n\" % l for l in lines)"
   ]
  },
  {
   "cell_type": "code",
   "execution_count": null,
   "id": "87c958f2",
   "metadata": {},
   "outputs": [],
   "source": []
  }
 ],
 "metadata": {
  "kernelspec": {
   "display_name": "Python 3 (ipykernel)",
   "language": "python",
   "name": "python3"
  },
  "language_info": {
   "codemirror_mode": {
    "name": "ipython",
    "version": 3
   },
   "file_extension": ".py",
   "mimetype": "text/x-python",
   "name": "python",
   "nbconvert_exporter": "python",
   "pygments_lexer": "ipython3",
   "version": "3.9.7"
  }
 },
 "nbformat": 4,
 "nbformat_minor": 5
}
