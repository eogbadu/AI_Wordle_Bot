{
 "cells": [
  {
   "cell_type": "code",
   "execution_count": null,
   "id": "70382a60",
   "metadata": {},
   "outputs": [],
   "source": [
    "# import random\n",
    "# from words import WORDS\n",
    "\n",
    "# diluted_sample = []\n",
    "\n",
    "# for i in range(0, 50):\n",
    "#     selected = random.choice(WORDS)\n",
    "#     diluted_sample.append(selected)\n",
    "#     WORDS.remove(selected)\n",
    "\n",
    "# class Node:\n",
    "    \n",
    "#     def __init__(self, v, l, r):\n",
    "#         self.value = v\n",
    "#         self.left = l\n",
    "#         self.right = r\n",
    "        \n",
    "\n",
    "# child1 = Node(2, None, None)\n",
    "# child2 = Node(3, None, None)\n",
    "# parent = Node(1, child1, child2)\n",
    "\n",
    "# pickle.dump(parent, open('sample_tree.p', 'wb+'))\n",
    "# hopeitworks = pickle.load(open('sample_tree.p', 'rb'))"
   ]
  },
  {
   "cell_type": "code",
   "execution_count": null,
   "id": "d4b40bfc",
   "metadata": {},
   "outputs": [],
   "source": [
    "# layer1 = [1]\n",
    "# layer2 = [2, 3, 4]\n",
    "# layer3 = [5, 6, 7]\n",
    "\n",
    "\n",
    "# layers = [layer1, layer2, layer3]\n",
    "\n",
    "# class testnode:\n",
    "    \n",
    "#     def __init__(self, val):\n",
    "#         self.val = val\n",
    "#         self.c1 = None\n",
    "#         self.c2 = None\n",
    "        \n",
    "# def generate_tree(i, j, Node):\n",
    "#     if i >= len(layers):\n",
    "#         return\n",
    "#     elif j >= len(layers[i]):\n",
    "#         return\n",
    "    \n",
    "#     c1 = layers[i][j-1]\n",
    "#     c2 = layers[i][j]\n",
    "    \n",
    "#     print('layer ', i)\n",
    "#     print('values ', c1, c2)\n",
    "    \n",
    "#     Node.c1 = testnode(c1)\n",
    "#     Node.c2 = testnode(c2)\n",
    "    \n",
    "#     generate_tree(i+1, j, Node.c1)\n",
    "#     generate_tree(i+1, j+2, Node.c2)\n",
    "\n",
    "# t1 = testnode(layer1[0])\n",
    "# generate_tree(1, 1, t1)\n",
    "\n",
    "# t1.c2.c1 "
   ]
  }
 ],
 "metadata": {
  "kernelspec": {
   "display_name": "Python [conda env:ML] *",
   "language": "python",
   "name": "conda-env-ML-py"
  },
  "language_info": {
   "codemirror_mode": {
    "name": "ipython",
    "version": 3
   },
   "file_extension": ".py",
   "mimetype": "text/x-python",
   "name": "python",
   "nbconvert_exporter": "python",
   "pygments_lexer": "ipython3",
   "version": "3.6.8"
  }
 },
 "nbformat": 4,
 "nbformat_minor": 5
}
